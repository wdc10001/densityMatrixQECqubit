{
 "cells": [
  {
   "cell_type": "code",
   "execution_count": null,
   "metadata": {},
   "outputs": [],
   "source": [
    "import cirq\n",
    "import qsimcirq\n",
    "import numpy as np\n",
    "from cirq.contrib.svg import SVGCircuit\n",
    "import sys\n",
    "sys.path.append(r'C:\\cloud\\QEC\\densityMatrix\\google')\n",
    "import NoiseChannel as NC\n",
    "import QutritGate as QG\n",
    "from qcisToCirq import qcisToCirq\n",
    "from ZXXZ10 import EC,ECDD\n",
    "from config import *\n",
    "import multiprocessing\n",
    "from functools import partial\n",
    "import numpy as np\n",
    "from qubitPara import *"
   ]
  },
  {
   "cell_type": "code",
   "execution_count": null,
   "metadata": {},
   "outputs": [],
   "source": [
    "class QutritPlusGate(cirq.Gate):\n",
    "    def __init__(self):\n",
    "        super(QutritPlusGate, self)\n",
    "\n",
    "    def _num_qubits_(self):\n",
    "            return 2\n",
    "\n",
    "    def _qid_shape_(self):\n",
    "        return (3,3)\n",
    "\n",
    "    def _unitary_(self):\n",
    "        return np.array([[0, 1, 0, 0, 0, 0, 0, 0, 0],\n",
    "                         [1, 0, 0, 0, 0, 0, 0, 0, 0],\n",
    "                         [0, 0, 0, 0, 0, 0, 0, 0, 0],\n",
    "                         [0, 0, 0, 0, 0, 0, 0, 0, 0],\n",
    "                         [0, 0, 0, 0, 0, 0, 0, 0, 0],\n",
    "                         [0, 0, 0, 0, 0, 0, 0, 0, 0],\n",
    "                         [0, 0, 0, 0, 0, 0, 0, 0, 0],\n",
    "                         [0, 0, 0, 0, 0, 0, 0, 0, 0],\n",
    "                         [0, 0, 0, 0, 0, 0, 0, 0, 0]]/ np.sqrt(2))\n",
    "\n",
    "    def _circuit_diagram_info_(self, args):\n",
    "        return '[X]','[X]'\n",
    "\n",
    "q0, q1, q2, q3, q4, q5, q6, q7, q8, q9, q10, q11, q12, q13, q14, q15, q16 = cirq.LineQid.range(17, dimension=3)\n",
    "circuit = cirq.Circuit([\n",
    "    QutritPlusGate().on(q0,q1), \n",
    "    cirq.measure(q0, q1, key=\"m0\"),\n",
    "    # QutritPlusGate()(q1),\n",
    "    # QutritPlusGate()(q1),\n",
    "    cirq.measure(q0, q1, key=\"m1\")\n",
    "])\n",
    "\n",
    "result = cirq.sample(circuit, repetitions=3)\n",
    "\n",
    "SVGCircuit(circuit)\n",
    "# print(result)"
   ]
  },
  {
   "cell_type": "code",
   "execution_count": null,
   "metadata": {},
   "outputs": [],
   "source": [
    "nD = 3\n",
    "M_Dire = MZ\n",
    "fHL = fWest\n",
    "qData = Q_Data\n",
    "\n",
    "pDict = {'px':px,'py':py,'pz':pz,'pM':pM,'pReset01':pReset01,'pReset02':pReset02,'pLeak':1,'pCZ':pCZ,'pCT':pCT}\n",
    "tDict = {'T1_10':T1_10,'T1_21':T1_21,'Tp_10':Tp_10,'Tp_21':Tp_21,'Th12':Th12,'tH':700000,'tCZ':tCZ}\n",
    "\n",
    "qcis = f'{init_random}'+1*f'{ECDD(nD,tH,tCZ,tM,tR)}'+f'{EC(tH,tCZ)}{M_Dire}{M_Data}'\n",
    "circuitList = qcisToCirq(qcis,qData,pDict,tDict,fHL,ten=True,eleven=False,circ=[]).matchline()\n",
    "circuit = cirq.Circuit(circuitList)\n",
    "SVGCircuit(circuit)"
   ]
  },
  {
   "cell_type": "code",
   "execution_count": null,
   "metadata": {},
   "outputs": [],
   "source": []
  }
 ],
 "metadata": {
  "kernelspec": {
   "display_name": "Python 3.9.12 ('base')",
   "language": "python",
   "name": "python3"
  },
  "language_info": {
   "codemirror_mode": {
    "name": "ipython",
    "version": 3
   },
   "file_extension": ".py",
   "mimetype": "text/x-python",
   "name": "python",
   "nbconvert_exporter": "python",
   "pygments_lexer": "ipython3",
   "version": "3.9.12"
  },
  "orig_nbformat": 4,
  "vscode": {
   "interpreter": {
    "hash": "6f5583cf1d9466b5c27e75c89cc6b383bed5736d6b16c51c8074d8690011a952"
   }
  }
 },
 "nbformat": 4,
 "nbformat_minor": 2
}
